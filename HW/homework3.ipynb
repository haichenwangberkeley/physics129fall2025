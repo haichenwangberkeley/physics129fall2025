{
 "cells": [
  {
   "cell_type": "markdown",
   "id": "0",
   "metadata": {},
   "source": [
    "# Physics 129 Fall 2025 Homework 3 \n",
    "\n",
    "**Due Friday September 26 11:59PM**\n",
    "\n",
    "submit the PDF version of the complete notebook to GradeScope"
   ]
  },
  {
   "cell_type": "markdown",
   "id": "1",
   "metadata": {},
   "source": [
    "## Question 1: Fitting a Signal in the Presence of Background (30 points)"
   ]
  },
  {
   "cell_type": "markdown",
   "id": "2",
   "metadata": {},
   "source": [
    "### Learning objectives\n",
    "In this question you will:\n",
    "\n",
    "- Gain experience in performing $\\chi^2$ fits to histogrammed data; explore how the statistical significance of a signal depends on the number of signal events and the signal-to-background ratio\n"
   ]
  },
  {
   "cell_type": "markdown",
   "id": "3",
   "metadata": {},
   "source": [
    "### 1a. "
   ]
  },
  {
   "cell_type": "markdown",
   "id": "4",
   "metadata": {
    "flags": [
     "problems",
     "solutions"
    ]
   },
   "source": [
    "Physicists often fit for signals in the presence of background.  In such cases, the significance of the fitted signal depends not only on the number of signal events but also on the amount of background and our ability to statistically separate the two.  In this problem, we will explore fitting signal and background for a very simple case:  The signal is a Gaussian peak centered at $x=10$ with a width $\\sigma=1$ and the background is uniformly distributed between $x=0$ and $x=20$.  The code below generates fake data, allowing you to change both the number of events in the signal and the ratio of signal-to-background.  To make sure that our definition of background does not depend on the fit range, the code below defines the signal-to-background ratio as the ratio number of signal events to the number of background events in a $\\pm 2 \\sigma$ window around the signal peak.  Here is the code you will use to generate the fake data:"
   ]
  },
  {
   "cell_type": "code",
   "execution_count": null,
   "id": "5",
   "metadata": {
    "flags": [
     "problems",
     "solutions"
    ]
   },
   "outputs": [],
   "source": [
    "# Write import math\n",
    "import numpy as np\n",
    "import random\n",
    "import matplotlib.pyplot as plt\n",
    "from scipy.optimize import minimize\n",
    "\n",
    "def makeData( SignalToBackground, nSigEvents, seed=12345):\n",
    "    \"\"\"Generates a dataset consisting of nEvents some of which are signal (a Gaussian with a width of 1 centered\n",
    "    at x=5) and the rest of which is background\n",
    "    Definition of SignalToBackground:  The ratio of the number of signal events within 2 sigma of the peak to the number\n",
    "    of background events in that same x-range  (this definition is just a choice)\n",
    "    \n",
    "    Parameters\n",
    "    ==========\n",
    "     SignalToBackground : float\n",
    "     Ratio of the number of signal events within 2 sigma of the peak to the number\n",
    "    of background events in that same x-range  (this definition is just a choice) \n",
    "      \n",
    "    nSigEvents : int\n",
    "      total number of signal events generated (NOT the number in +- 2 sigma)\n",
    "      \n",
    "    seed : int\n",
    "      seed for the random number generator\n",
    "      \n",
    "    Returns\n",
    "    =======\n",
    "    data : array\n",
    "      the measurements of x\n",
    "    \"\"\"\n",
    "    fracOutsideTwoSigma = 4.55e-2\n",
    "    # 1-fracOutsideTwoSigma is the fraction of the Signal Events within +-2 sigma\n",
    "    # To get the total number of background events, find the number in +-2 sigma\n",
    "    # which is 4 units of x and then since the background is flat from 0 to 20\n",
    "    # multiply by 20/4=5\n",
    "    \n",
    "    nBackground = 5*nSigEvents*(1-fracOutsideTwoSigma)/SignalToBackground\n",
    "    nEvents = nSigEvents+nBackground\n",
    "    fSig = nSigEvents/nEvents\n",
    "    \n",
    "    # Make an array to hold the data (ie the x measurements)\n",
    "    data = []\n",
    "    \n",
    "    # set the random seed.  This will allow us to reproduce the results if we run again\n",
    "    np.random.seed(seed)\n",
    " \n",
    "    # Retrieve nEvents random numbers that will be used to pick which events are signal\n",
    "    # and which are background\n",
    "    n = int(nEvents)\n",
    "    tests = np.random.uniform(0,1,n)\n",
    "    bck = np.random.uniform(0,20,n)\n",
    "    sig = np.random.normal(10,1,n)\n",
    "    \n",
    "    count = 0\n",
    "    for test in tests:\n",
    "        if(test<fSig):\n",
    "            data.append(sig[count])\n",
    "        else:\n",
    "            data.append(bck[count])\n",
    "        count+=1\n",
    "    \n",
    "    # Loop over the events and pick either signal or background and draw from the appropriate \n",
    "    # pdf in each case\n",
    "    \n",
    "    # return the data to the user\n",
    "    return data\n",
    "    "
   ]
  },
  {
   "cell_type": "markdown",
   "id": "6",
   "metadata": {
    "flags": [
     "problems",
     "solutions"
    ]
   },
   "source": [
    "Below is a simple test to show you how to use this code.  Remember if you run this code multiple times you should change the seed each time (for example, you could increment the seed each time you call the function)"
   ]
  },
  {
   "cell_type": "code",
   "execution_count": null,
   "id": "7",
   "metadata": {
    "flags": [
     "problems",
     "solutions"
    ]
   },
   "outputs": [],
   "source": [
    "mydata = []\n",
    "#  make 10 signal events with a signalToBackground of 1 using random seed 123\n",
    "mydata=makeData(1,20,123)\n",
    "print(\"number of total data events: \",len(mydata))\n",
    "print(\"data: \",mydata)"
   ]
  },
  {
   "cell_type": "markdown",
   "id": "8",
   "metadata": {
    "flags": [
     "problems",
     "solutions"
    ]
   },
   "source": [
    "Generate a sample of 1000 signal events with signalToBackground=0.5 and make a histogram of your results. Make sure that the number of bins in your histogram is small enough that you have at least 10 entries per bin (so that it is reasonable to do a binned fit to the histogram). To make life a bit easier, here is function you can use to make your histograms.  You are of course free to write your own function and not use this code."
   ]
  },
  {
   "cell_type": "code",
   "execution_count": null,
   "id": "9",
   "metadata": {
    "flags": [
     "problems",
     "solutions"
    ]
   },
   "outputs": [],
   "source": [
    "#Import the pyplot module of matplotlib as \"plt\"\n",
    "import matplotlib.pyplot as plt\n",
    "\n",
    "\n",
    "#Makes a histogram filled with the random numbers we generate\n",
    "def plot_histogram(samples,xtitle,ytitle, title, nbins, limits):\n",
    "   \n",
    "    #Plot the histogram of the sampled data with nbins and a nice color\n",
    "    n, bins, patches =plt.hist(samples, bins=nbins, range=limits, color=(0,0.7,0.9))  #Set the color using (r,g,b) values or\n",
    "                                                                  #  use a built-in matplotlib color\"\"\" \n",
    "    bincenters = 0.5*(bins[1:]+bins[:-1])\n",
    "    errs = np.sqrt(n)\n",
    "\n",
    "    plt.errorbar(bincenters, n, yerr=errs, fmt='none')\n",
    "    #Add some axis labels and a descriptive title\n",
    "    plt.xlabel(xtitle)\n",
    "    plt.ylabel(ytitle)\n",
    "\n",
    "    #Get rid of the extra white space on the left/right edges (you can delete these two lines without a problem)\n",
    "    xmin, xmax, ymin, ymax = plt.axis()\n",
    "    plt.axis([limits[0],limits[1],ymin,ymax])\n",
    "\n",
    "    #Not necessarily needed in a Jupyter notebook, but it doesn't hurt\n",
    "    plt.show()\n",
    "    return n, bins, patches"
   ]
  },
  {
   "cell_type": "code",
   "execution_count": null,
   "id": "10",
   "metadata": {},
   "outputs": [],
   "source": [
    "#Write your answer here"
   ]
  },
  {
   "cell_type": "markdown",
   "id": "11",
   "metadata": {},
   "source": [
    "### 1b. "
   ]
  },
  {
   "cell_type": "markdown",
   "id": "12",
   "metadata": {
    "flags": [
     "problems",
     "solutions"
    ]
   },
   "source": [
    "Pretend this is real data.  Your goal is to find the best estimate of how many events are in a Gaussian peak with unknown mean and sigma and what the uncertainty on this estimate is.  In your fit, you can make the assumption that the background is flat (a zeroth order polynomial) but that you don't have a prediction for the background rate.  Use your favorite minimization package to fit the data.  Deterimine the best estimate of the number of events in signal and the uncertainty on that estimate.  (remember, that you must let the position and width of the Gaussian and the size of the background vary in your fit).\n",
    "\n",
    "Hint: For examples of how to perform a least squared fit of a function to data see:\n",
    "- https://github.com/berkeley-physics/Python-Tutorials/blob/master/3%20-%20Specific%20topics/Fitting.ipynb\n",
    "- https://docs.scipy.org/doc/scipy/reference/generated/scipy.optimize.curve_fit.html"
   ]
  },
  {
   "cell_type": "code",
   "execution_count": null,
   "id": "13",
   "metadata": {},
   "outputs": [],
   "source": [
    "#Write your answer here"
   ]
  },
  {
   "cell_type": "markdown",
   "id": "14",
   "metadata": {},
   "source": [
    "### 1c. "
   ]
  },
  {
   "cell_type": "markdown",
   "id": "15",
   "metadata": {
    "flags": [
     "problems",
     "solutions"
    ]
   },
   "source": [
    "What is the $\\chi^2$ per degree of freedom for your fit?  What does this number tell you about how well your fit describes the data?"
   ]
  },
  {
   "cell_type": "code",
   "execution_count": null,
   "id": "16",
   "metadata": {},
   "outputs": [],
   "source": [
    "#Write your answer here"
   ]
  },
  {
   "cell_type": "markdown",
   "id": "17",
   "metadata": {},
   "source": [
    "### 1d. "
   ]
  },
  {
   "cell_type": "markdown",
   "id": "18",
   "metadata": {
    "flags": [
     "problems",
     "solutions"
    ]
   },
   "source": [
    "If a signal of size $N_S^{meas}$ has a fitted uncertainty $\\sigma_S$, the signficance of the measurement is defined to be\n",
    "$$\n",
    "S^{meas} \\equiv \\frac{N_S^{meas}}{\\sigma_S}\n",
    "$$\n",
    "When the size of the data sample is large enough that Gaussian uncertainties are appropriate, a rule of thumb can be used to give a crude estimate of the expected significance $S^{expected}$ of the measurement. This predicted signficance depends on the number of signal events ($N_{S}$) and is the number of background events populating the region **beneath the signal** ($N_B$):\n",
    "$$\n",
    "S^{expected}  \\approx  \\frac{N_S}{\\sqrt{N_S+N_B}}\n",
    "$$\n",
    "\n",
    "Repeat the above exercise changing both the number of events in your signal and the signalToBackground ratio.  Plot the values of the measured significance  $S^{meas}$ \n",
    "obtained from your fits as a function of $\\frac{N_S}{\\sqrt{N_S+N_B}}$.  How do your results compare to the simple rule of thumb quoted above?"
   ]
  },
  {
   "cell_type": "code",
   "execution_count": null,
   "id": "19",
   "metadata": {},
   "outputs": [],
   "source": [
    "#Write your answer here"
   ]
  },
  {
   "cell_type": "markdown",
   "id": "f90c77ac",
   "metadata": {},
   "source": [
    "## Question 2: Noether's Theorem (20 points)"
   ]
  },
  {
   "cell_type": "markdown",
   "id": "7b7ad654",
   "metadata": {},
   "source": [
    "### Learning objectives\n",
    "In this question you will:\n",
    "\n",
    "- Review the meaning of Noether's theorem\n",
    "- Apply Noether's theorm to a non-relativistic quantum mechanical example "
   ]
  },
  {
   "cell_type": "markdown",
   "id": "8f49c422",
   "metadata": {},
   "source": [
    "In non-relativistic quantum mechanics, we learned that if an operator commutes with the Hamiltonian, the expectation value of that operator is a conserved quantity.  The same concept holds in relativistic quantum mechanics but is expressed using Lagrangian language.  The Lagrangian can be expressed as $$ L = T - V$$ where $T$ is the kinetic energy of the system and $V$ is the potential energy of the system. The action, S, of a trajectory is defined as the integral of the Lagrangian with respect to time during the trajectory, i.e. $$ S = \\int L \\hspace{0.05in} dt $$.\n",
    "\n",
    "Noether's theorem tells us that for every symmetry of the action there is a conserved quantum number.\n",
    "\n",
    "Consider the following example for the case of non-relativisitic quantum mechanics.  A particle with spin-$\\frac{1}{2}$ and magnetic moment $\\vec \\mu = g \\frac{q}{2m} \\vec S$ where $q$ is the charge of the particle and $\\vec S$ is the spin is placed in a constant magnetic field in the $z$-direction $\\vec B = B_0 \\hat z$.  The Lagrangian is therefore\n",
    "$$\n",
    "L = \\frac{\\left ( \\vec p \\right ) ^2}{2m}  + \\vec \\mu \\cdot B\n",
    "$$\n",
    "Which of the following are conserved quantities:\n",
    "- (a) $p_x$, the $x$-component of the momentum\n",
    "- (b) $p_z$, the $z$-component of the momentum\n",
    "- (c) $S_x$, the $x$-component of the spin\n",
    "- (d) $S_z$, the $z$-component of the spin\n",
    "- (e) $\\vec S^2$ the magnitude of the spin-squared operator"
   ]
  },
  {
   "cell_type": "markdown",
   "id": "5a679290",
   "metadata": {},
   "source": [
    "Write your answer here"
   ]
  },
  {
   "cell_type": "markdown",
   "id": "7877b7d7",
   "metadata": {},
   "source": [
    "## Question 3: Parity Properties of Various Operators (20 points)"
   ]
  },
  {
   "cell_type": "markdown",
   "id": "4bc3145c",
   "metadata": {},
   "source": [
    "### Learning objectives\n",
    "In this question you will:\n",
    "\n",
    "- Review the meaning of the terms vector, axial vector, scalar and pseudoscalar and determine the parity property of several operators"
   ]
  },
  {
   "cell_type": "markdown",
   "id": "723b6f0e",
   "metadata": {},
   "source": [
    "We saw in class that operators could be classified according to their properties under the parity operator.  Vector operators change sign under parity\n",
    "\n",
    "$$\n",
    "{\\bf P}\\; \\vec r \\; {\\bf P}^\\dagger \\rightarrow - \\vec r\n",
    "$$\n",
    "\n",
    "while axial vectors do not:\n",
    "\n",
    "$$\n",
    "{\\bf P }\\;\\vec L \\; {\\bf P } ^\\dagger \\rightarrow + \\vec L\n",
    "$$\n",
    "\n",
    "similarly, scalar operators do not change sign under parity \n",
    "\n",
    "$$\n",
    "{\\bf P}\\; \\left (\\vec r \\cdot \\vec p \\right ) \\; {\\bf P}^\\dagger \\rightarrow + \\vec r \\cdot \\vec p\n",
    "$$\n",
    "\n",
    "while pseudoscalar operators do change sign:\n",
    "\n",
    "$$\n",
    "{\\bf P}\\; \\left (\\vec p \\cdot \\vec L \\right ) \\; {\\bf P}^\\dagger \\rightarrow - \\vec p \\cdot \\vec L \n",
    "$$\n",
    "\n",
    "For each of the operators below, state whether they are scalar, pseudoscalar. vector or pseudovector:\n",
    "- (a) $\\vec p_1 \\cdot \\left (\\vec p_2 \\times \\vec p_3 \\right )$ where 1. 2 and 3 are three different particles\n",
    "-(b)  $\\vec p_1 \\times \\left (\\vec p_2 \\times \\vec p_3 \\right )$ where 1. 2 and 3 are three different particles\n",
    "- (c) The magnetic moment $\\vec \\mu$ of a particle\n",
    "- (d) The magnetic field $\\vec B$\\;\\; (Hint: look at the Biot-Savart law)\n",
    "- (e) $\\left (\\vec p_1 \\times \\vec p_2 \\right) \\cdot \\left (\\vec S_1+\\vec S_2 \\right)$ where 1 and 2 are two different particles\n"
   ]
  },
  {
   "cell_type": "markdown",
   "id": "97ae3403",
   "metadata": {},
   "source": [
    "#Write your answer here"
   ]
  },
  {
   "cell_type": "markdown",
   "id": "bb1a797b",
   "metadata": {},
   "source": [
    "## Question 4: Parity in Particle Decays (10 points)"
   ]
  },
  {
   "cell_type": "markdown",
   "id": "0f5bdd74",
   "metadata": {},
   "source": [
    "### Learning objectives\n",
    "In this question you will:\n",
    "\n",
    "- Explore how conservation laws can be used to exclude specific decay channels"
   ]
  },
  {
   "cell_type": "markdown",
   "id": "fd272d22",
   "metadata": {},
   "source": [
    "Show that a scalar meson (a meson with spin 0 and parity +1) cannot decay to three pseudoscalar mesons (mesons with spin 0 and parity -1) in a parity-conserving process such as the strong interaction."
   ]
  },
  {
   "cell_type": "markdown",
   "id": "69cbf9bd",
   "metadata": {},
   "source": [
    "#Write your answer here"
   ]
  },
  {
   "cell_type": "markdown",
   "id": "677e10f7",
   "metadata": {},
   "source": [
    "### AI Technology Disclosure Statement\n",
    "\n",
    "Use of AI technology is **permissible only** for:  \n",
    "- Formatting answers (e.g., converting to Markdown or LaTeX)  \n",
    "- Assisting with coding tasks (e.g., syntax help, debugging)  \n",
    "\n",
    "Students must explicitly state **whether AI technology was used** in completing this homework.  \n",
    "- If **yes**, describe **how** it was used.  \n",
    "- If **no**, state that no AI technology was used.  \n",
    "\n",
    "⚠️ If this disclosure is missing, the homework **will not be graded**.  \n",
    "If it is later completed, the submission will be treated as **late**.\n"
   ]
  },
  {
   "cell_type": "markdown",
   "id": "470a68df",
   "metadata": {},
   "source": [
    "#### Your Answer"
   ]
  },
  {
   "cell_type": "markdown",
   "id": "5d270078",
   "metadata": {},
   "source": []
  }
 ],
 "metadata": {
  "kernelspec": {
   "display_name": "3.12.3",
   "language": "python",
   "name": "python3"
  },
  "language_info": {
   "codemirror_mode": {
    "name": "ipython",
    "version": 3
   },
   "file_extension": ".py",
   "mimetype": "text/x-python",
   "name": "python",
   "nbconvert_exporter": "python",
   "pygments_lexer": "ipython3",
   "version": "3.12.3"
  }
 },
 "nbformat": 4,
 "nbformat_minor": 5
}

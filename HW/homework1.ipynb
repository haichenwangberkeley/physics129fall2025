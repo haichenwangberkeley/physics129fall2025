{
 "cells": [
  {
   "cell_type": "markdown",
   "id": "6c9022ef-c6d8-4e83-bb0d-ad92ca1bfd31",
   "metadata": {},
   "source": [
    "# Homework 1\n",
    "**Due 23:59pm Friday September 12**\n",
    "\n",
    "# Review of Natural units\n",
    "### Natural Units in Particle Physics\n",
    "\n",
    "In high-energy physics, it is common to work in **natural units**.  \n",
    "The idea is to set the fundamental constants\n",
    "\n",
    "$$\n",
    "\\hbar = 1, \\quad c = 1\n",
    "$$\n",
    "\n",
    "so that energy, momentum, and mass all share the same units (typically GeV).  \n",
    "\n",
    "---\n",
    "\n",
    "**Why do this?**\n",
    "\n",
    "1. **Simplifies equations**  \n",
    "   For example, Einstein’s relation\n",
    "\n",
    "   $$\n",
    "   E^2 = p^2 c^2 + m^2 c^4\n",
    "   $$\n",
    "\n",
    "   becomes simply\n",
    "\n",
    "   $$\n",
    "   E^2 = p^2 + m^2\n",
    "   $$\n",
    "\n",
    "   when $c=1$.\n",
    "\n",
    "2. **Consistent units**  \n",
    "   - Mass, energy, and momentum are all measured in GeV.  \n",
    "   - Lengths and times are expressed in inverse energy units, e.g.  \n",
    "     $1\\,\\text{GeV}^{-1} \\approx 0.197\\,\\text{fm}$.\n",
    "\n",
    "3. **Makes scaling clearer**  \n",
    "   You immediately see how quantities depend on energy without carrying around constants.\n",
    "\n",
    "---\n",
    "\n",
    "**Restoring constants**  \n",
    "If needed, you can reinsert $\\hbar$ and $c$ for clarity:\n",
    "\n",
    "- Handy constant:  \n",
    "\n",
    "  $$\n",
    "  \\hbar c \\simeq 0.197~\\text{GeV·fm}\n",
    "  $$\n",
    "\n",
    "This lets you convert between energy (GeV) and distance (fm).\n",
    "\n",
    "---\n",
    "\n",
    "✅ **Summary**:  \n",
    "Natural units are a bookkeeping trick: by setting $\\hbar=c=1$, we work in the most convenient system for relativistic quantum physics, where energies, masses, and momenta all speak the same language.\n"
   ]
  },
  {
   "cell_type": "markdown",
   "id": "1dd42a9f-a35d-44e7-9cb7-5b6ec816acd7",
   "metadata": {},
   "source": [
    "### Conversion Constants Between HEP and SI Units\n",
    "\n",
    "In high-energy physics we often express mass in **GeV/$c^2$** and momentum in **GeV/$c$**.  \n",
    "Here are the SI conversion factors:\n",
    "\n",
    "---\n",
    "\n",
    "**Mass conversion**\n",
    "\n",
    "$$\n",
    "1~\\text{GeV}/c^2 = 1.7827 \\times 10^{-27}~\\text{kg}\n",
    "$$\n",
    "\n",
    "---\n",
    "\n",
    "**Momentum conversion**\n",
    "\n",
    "$$\n",
    "1~\\text{GeV}/c = 5.344 \\times 10^{-19}~\\text{kg·m/s}\n",
    "$$\n",
    "\n",
    "---\n",
    "\n",
    "### Derivation of the momentum conversion\n",
    "\n",
    "Start from the definition:\n",
    "\n",
    "$$\n",
    "p = \\frac{E}{c}\n",
    "$$\n",
    "\n",
    "with $E = 1~\\text{GeV}$.\n",
    "\n",
    "1. Convert 1 GeV to joules:\n",
    "\n",
    "$$\n",
    "1~\\text{GeV} = 10^9 \\times 1.602176634 \\times 10^{-19}~\\text{J} \n",
    "= 1.602176634 \\times 10^{-10}~\\text{J}\n",
    "$$\n",
    "\n",
    "2. Divide by the speed of light:\n",
    "\n",
    "$$\n",
    "p = \\frac{1.602176634 \\times 10^{-10}~\\text{J}}\n",
    "{2.99792458 \\times 10^8~\\text{m/s}}\n",
    "$$\n",
    "\n",
    "3. Simplify using $1~\\text{J} = 1~\\text{kg·m}^2/\\text{s}^2$:\n",
    "\n",
    "$$\n",
    "p = 5.344 \\times 10^{-19}~\\text{kg·m/s}\n",
    "$$\n",
    "\n",
    "---\n",
    "\n",
    "✅ **Summary**\n",
    "\n",
    "- Mass: $1~\\text{GeV}/c^2 \\to 1.7827 \\times 10^{-27}$ kg  \n",
    "- Momentum: $1~\\text{GeV}/c \\to 5.344 \\times 10^{-19}$ kg·m/s  \n",
    "- Derivation: direct conversion of 1 GeV to joules, then divide by $c$\n",
    "\n"
   ]
  },
  {
   "cell_type": "markdown",
   "id": "12fb2cf4-c458-4e3e-bb64-97b7abe71ed1",
   "metadata": {},
   "source": [
    "### Problem 1: Proton Momentum in a Cyclotron\n",
    "\n",
    "A proton is moving in a circular orbit inside a cyclotron, confined by a uniform magnetic field of strength **0.5 T**.  \n",
    "The orbit has a radius of **10 cm**.  \n",
    "\n",
    "Using the relation between magnetic field, radius, charge, and momentum,\n",
    "\n",
    "$$\n",
    "p = qBr ,\n",
    "$$\n",
    "\n",
    "determine the momentum of the proton. Express your final result in **MeV** (in other words, we are using natural unit and set c = 1 ).\n"
   ]
  },
  {
   "cell_type": "markdown",
   "id": "6dba2bc3-fcbb-4dc0-a751-5a834d7c1654",
   "metadata": {},
   "source": [
    "#### Your Answer"
   ]
  },
  {
   "cell_type": "markdown",
   "id": "163895f4-4849-4296-b81a-caa4f07e45e8",
   "metadata": {},
   "source": [
    "### Problem 2: Center-of-Mass Energy of HERA\n",
    "\n",
    "The HERA (Hadron-Electron Ring Accelerator) at DESY was a unique collider that brought together high-energy electrons and protons in head-on collisions.  \n",
    "It operated with an **electron beam energy of 27.5 GeV** and a **proton beam energy of 920 GeV**.  \n",
    "\n",
    "Calculate the **center-of-mass energy** of the electron–proton system.\n"
   ]
  },
  {
   "cell_type": "markdown",
   "id": "effef374-8925-4a12-abe8-4d22444a6f0e",
   "metadata": {},
   "source": [
    "#### Your Answer"
   ]
  },
  {
   "cell_type": "markdown",
   "id": "9a1053c3-38b2-4ce9-8445-9eb12fc65685",
   "metadata": {},
   "source": [
    "### Problem 3 : Particle Masses from the PDG\n",
    "\n",
    "The **Particle Data Group (PDG)** maintains the world’s most authoritative compilation of particle properties.  \n",
    "You can access the online tables here: [https://pdg.lbl.gov](https://pdg.lbl.gov)  \n",
    "\n",
    "**Exercise:** Using the PDG tables, look up and record the masses **with their quoted uncertainties** (in MeV or GeV) for the following particles:  \n",
    "\n",
    "- Proton  \n",
    "- Neutron  \n",
    "- Neutral pion ($\\pi^0$)  \n",
    "- Higgs boson ($H$)  \n",
    "- Tau lepton ($\\tau$)  \n",
    "- Top quark ($t$)  \n",
    "\n",
    "\n",
    "**You are not allowed to use any AI technologies to retrieve these values**"
   ]
  },
  {
   "cell_type": "markdown",
   "id": "b1a482ff-6d4e-4847-a9e7-8281562cc808",
   "metadata": {},
   "source": [
    "#### Your Answer"
   ]
  },
  {
   "cell_type": "markdown",
   "id": "bc37bb27-98ea-4ab5-804d-0870970b3882",
   "metadata": {},
   "source": [
    "### Problem 4: Energy Loss and Radiation Length\n",
    "\n",
    "The **radiation length ($X_0$)** is defined as the mean distance over which a high-energy electron loses all but $1/e$ of its energy due to bremsstrahlung.  \n",
    "In other words, after traveling one radiation length, an electron retains a fraction $1/e \\approx 0.37$ of its initial energy.\n",
    "\n",
    "**Exercise:**  \n",
    "Assume this exponential law holds **exactly**.  \n",
    "How many radiation lengths must an electron travel in order to lose **99% of its initial energy** via bremsstrahlung?\n"
   ]
  },
  {
   "cell_type": "markdown",
   "id": "138b4e46-0276-40c3-9542-769172475425",
   "metadata": {},
   "source": [
    "#### Your Answer"
   ]
  },
  {
   "cell_type": "markdown",
   "id": "fb258d6f-1e84-4b10-9f06-ea19341d10a6",
   "metadata": {},
   "source": [
    "### AI Technology Disclosure Statement\n",
    "\n",
    "Use of AI technology is **permissible only** for:  \n",
    "- Formatting answers (e.g., converting to Markdown or LaTeX)  \n",
    "- Assisting with coding tasks (e.g., syntax help, debugging)  \n",
    "\n",
    "Students must explicitly state **whether AI technology was used** in completing this homework.  \n",
    "- If **yes**, describe **how** it was used.  \n",
    "- If **no**, state that no AI technology was used.  \n",
    "\n",
    "⚠️ If this disclosure is missing, the homework **will not be graded**.  \n",
    "If it is later completed, the submission will be treated as **late**.\n"
   ]
  },
  {
   "cell_type": "markdown",
   "id": "1a0af64b-6b60-46b5-b838-726ffd870739",
   "metadata": {},
   "source": [
    "#### Your Answer"
   ]
  }
 ],
 "metadata": {
  "kernelspec": {
   "display_name": "Python 3 (ipykernel)",
   "language": "python",
   "name": "python3"
  },
  "language_info": {
   "codemirror_mode": {
    "name": "ipython",
    "version": 3
   },
   "file_extension": ".py",
   "mimetype": "text/x-python",
   "name": "python",
   "nbconvert_exporter": "python",
   "pygments_lexer": "ipython3",
   "version": "3.11.13"
  }
 },
 "nbformat": 4,
 "nbformat_minor": 5
}

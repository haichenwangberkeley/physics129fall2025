{
 "cells": [
  {
   "cell_type": "markdown",
   "metadata": {},
   "source": [
    "# Physics 129 Fall 2025 Problem Set 4: \n",
    "**Due 23:59pm Friday Oct 3, 2025**"
   ]
  },
  {
   "cell_type": "markdown",
   "metadata": {},
   "source": [
    "## Question 1: Constructing hadrons states using SU(3) raising and lowering operators (25 points)"
   ]
  },
  {
   "cell_type": "markdown",
   "metadata": {},
   "source": [
    "### Learning objectives\n",
    "In this question you will:\n",
    "- Learn how to find the SU(3) wave functions for baryons using SU(3) raising and lowering operators"
   ]
  },
  {
   "cell_type": "markdown",
   "metadata": {},
   "source": [
    "If we know the SU(3) wave function for one member of an SU(3) multiplet, we can construct the other members of the multiplet using SU(3) raising and lowering operators.  Each multiplet has well defined properties under the interachange of two quarks.  For example, the spin-3/2 baryon decouplet that contains the $\\Delta $ is symmetric under interchange, eg $\\Delta ^{+} = \\frac{1}{\\sqrt{3}} \\left (uud+udu+duu \\right ) $, while the spin-1/2 octet that contains the proton and neutron is  antisymmetric under the interchange of the first two quarks but has no symmetry with respect to the third."
   ]
  },
  {
   "cell_type": "markdown",
   "metadata": {},
   "source": [
    "### 1a."
   ]
  },
  {
   "cell_type": "markdown",
   "metadata": {},
   "source": [
    "For the spin-3/2 decouplet, start with the $\\Omega^{-} = sss$ baryon with strangeness $S=-3$.   Use raising and/or lowering operators to construct the members of the decouplet with $S=-2$, known as the the $\\Xi$, and with $S=-1 $, known as the $\\Sigma^{*}$."
   ]
  },
  {
   "cell_type": "markdown",
   "metadata": {},
   "source": [
    "Write your answer here"
   ]
  },
  {
   "cell_type": "markdown",
   "metadata": {},
   "source": [
    "### 1b."
   ]
  },
  {
   "cell_type": "markdown",
   "metadata": {},
   "source": [
    "Starting from the $\\pi^+$ SU(3) wave function\n",
    "$$\n",
    "\\pi^+ = - u \\overline d\n",
    "$$\n",
    "Use SU(3) raising and lowering operators to construct the 4 states $K^+$, $K^-$, $K^0$ and $\\overline K ^0$.  When\n",
    "constructing these states you can start with the relationships given on page 226 of Thomson:\n",
    "$$\n",
    "\\begin{array}{cccccc}\n",
    "\\hat V_+ s = +u & \\hat V_- u = +s & \\hat U_+ s = +d & \\hat U_- d = +s & \\hat I_+ d = +u & \\hat I_- u = +d \\\\\n",
    "\\hat V_+ \\overline u = -\\overline s & \\hat V_- \\overline s = -\\overline u & \\hat U_+ \\overline d = -\\overline s & \n",
    "\\hat U_- \\overline s = -\\overline d & \\hat I_+ \\overline u = -\\overline d & \\hat I_- \\overline d = -\\overline u\n",
    "\\end{array}\n",
    "$$\n",
    "(Note: Thomson uses the operator $\\hat T$ for isospin while here we represent isospin with $\\hat I$)"
   ]
  },
  {
   "cell_type": "markdown",
   "metadata": {},
   "source": [
    "Write your answer here"
   ]
  },
  {
   "cell_type": "markdown",
   "metadata": {},
   "source": [
    "## Question 2: Determining particle quantum numbers (25 points)"
   ]
  },
  {
   "cell_type": "markdown",
   "metadata": {},
   "source": [
    "### Learning objectives\n",
    "In this question you will:\n",
    "- Learn how to use information about scattering cross sections to determine the quantum numbers of a resonance"
   ]
  },
  {
   "cell_type": "markdown",
   "metadata": {},
   "source": [
    "Suppose we take a beam of $K^-$ particles and shoot it into a hydrogen bubble chamber.  The figure below (taken from the PDG) shows the resulting total cross section for $K^- p$ interactions as a function of the $K^-$ momentum (labeled $P_{lab}$). Let's concentrate on the resonance around $P_{lab} = 1.25$ GeV. We will call this resonance $X$."
   ]
  },
  {
   "cell_type": "markdown",
   "metadata": {},
   "source": [
    "![K- p scattering cross section](kp_PDG.png)"
   ]
  },
  {
   "cell_type": "markdown",
   "metadata": {},
   "source": [
    "### 2a."
   ]
  },
  {
   "cell_type": "markdown",
   "metadata": {},
   "source": [
    "Is the $X$ particle produced by the strong, electromagnetic or weak interaction?  Give a reason for your answer"
   ]
  },
  {
   "cell_type": "markdown",
   "metadata": {},
   "source": [
    "Write your answer here"
   ]
  },
  {
   "cell_type": "markdown",
   "metadata": {},
   "source": [
    "### 2b."
   ]
  },
  {
   "cell_type": "markdown",
   "metadata": {},
   "source": [
    "What possible values of isospin can $X$ have?"
   ]
  },
  {
   "cell_type": "markdown",
   "metadata": {},
   "source": [
    "Write your answer here"
   ]
  },
  {
   "cell_type": "markdown",
   "metadata": {},
   "source": [
    "### 2c."
   ]
  },
  {
   "cell_type": "markdown",
   "metadata": {},
   "source": [
    "If we look at $\\overline{K^0} + p$ interactions, we do not see any resonance with the same mass as $X$.  Use this fact to determine the isospin of $X$."
   ]
  },
  {
   "cell_type": "markdown",
   "metadata": {},
   "source": [
    "Write your answer here"
   ]
  },
  {
   "cell_type": "markdown",
   "metadata": {},
   "source": [
    "### 2d."
   ]
  },
  {
   "cell_type": "markdown",
   "metadata": {},
   "source": [
    "Assuming that the interaction occurs from an s-wave (no orbital angular momentum), determine the spin and the parity of the $X$ (you can look up the parity of the proton  and $K^-$ if you don't remember their values.  In the case of the proton, as with all fermions, the parity is assigned by convention)."
   ]
  },
  {
   "cell_type": "markdown",
   "metadata": {},
   "source": [
    "Write your answer here"
   ]
  },
  {
   "cell_type": "markdown",
   "metadata": {},
   "source": [
    "### 2e."
   ]
  },
  {
   "cell_type": "markdown",
   "metadata": {},
   "source": [
    "In addition to $K^- p$, write down another decay mode of the $X$."
   ]
  },
  {
   "cell_type": "markdown",
   "metadata": {},
   "source": [
    "## Question 3: Hyperfine splitting in the meson multiplets (20 points)"
   ]
  },
  {
   "cell_type": "markdown",
   "metadata": {},
   "source": [
    "### Learning objectives\n",
    "In this question you will:\n",
    "- Use concepts first learned in the context of the hydrogen atom to understand mass splittings between vector and pseudoscalar mesons"
   ]
  },
  {
   "cell_type": "markdown",
   "metadata": {},
   "source": [
    "The lowest lying pseudoscalar and vector multiplets are both SU(3) nonets (octet plus singlet) with no orbital angular momentum.  The mass splittings within a multiplet come from the difference in mass between the $u$, $d$ and $s$ quarks and to a smaller extent from electromagnetic corrections due to the differences in quark charges.  Mass splitting  between the pseudoscalar and vector multiplets is due to QCD hyperfine splitting.  The origin of this term is the same as hyperfine splitting in hydrogen:  the interaction between the magnetic moments of the two particles in the bound state.\n",
    "\n",
    "The hyperfine mass splitting for mesons with quark content $q_1 \\overline{q_2}$ has the form:\n",
    "$$ \\Delta M ({\\rm meson}) = A \\frac{{\\bf S}_1 \\cdot {\\bf S}_2}{m_1 m_2} |\\psi(0)|^2$$\n",
    "where $A$ is a constant, ${\\bf S}_i$ is the spin of quark $i$, $m_i$ is the mass of quark $i$ and $|\\psi(0)|$ is the wave function at the origin.  We cannot calculate $\\psi(0)$ from first principles but we can use experimental measurements to determine the combination\n",
    "$A \\left | \\psi(0)\\right |^2$.\n",
    "For this problem, use $m_u=m_d=336$ MeV and $m_s=509$ MeV."
   ]
  },
  {
   "cell_type": "markdown",
   "metadata": {},
   "source": [
    "### 3a."
   ]
  },
  {
   "cell_type": "markdown",
   "metadata": {},
   "source": [
    "By comparing the masses of the $K^0$ and $K^{0 *}$ mesons, estimate the\n",
    "value of $A |\\psi(0)|^2$."
   ]
  },
  {
   "cell_type": "markdown",
   "metadata": {},
   "source": [
    "### 3b."
   ]
  },
  {
   "cell_type": "markdown",
   "metadata": {},
   "source": [
    "Use this value of $A|\\psi(0)|^2$ and the difference between the up and strange quark masses  to predict the splitting between the $\\eta $ and $\\omega $.  Note:  you may assume that the $\\eta $ is a pure SU(3) octet state:\n",
    "$$\n",
    "\\eta = \\frac{1}{\\sqrt{6}} \\left (u\\overline u + d\\overline d - 2 s\\overline s \\right )\n",
    "$$                                                                                 \n",
    "In the case of the $\\omega$, use the wave function $|\\omega> = \\frac{1}{\\sqrt{2}} (u\\overline u + d\\overline d)$"
   ]
  },
  {
   "cell_type": "markdown",
   "metadata": {},
   "source": [
    "## Your answer:\n"
   ]
  },
  {
   "cell_type": "markdown",
   "metadata": {},
   "source": [
    "### Question 4 Determining the $\\Omega^-$ Lifetime from Data (30pts)\n",
    "\n",
    "In this problem, you will use a provided dataset to **extract the lifetime of the $\\Omega^-$ baryon**.  \n",
    "\n",
    "#### Background\n",
    "- The $\\Omega^-$ is a baryon with quark content $sss$.  \n",
    "- Its **mass** is  \n",
    "  $$\n",
    "  m_\\Omega = 1.672\\ \\text{GeV}/c^2.\n",
    "  $$\n",
    "- A particle traveling in the laboratory can cover a flight distance $L$ before it decays.  \n",
    "- The **proper decay time** of each particle can be reconstructed from its measured momentum $p$ and flight distance $L$:  \n",
    "  $$\n",
    "  t_{\\text{proper}} = \\frac{L\\,m_\\Omega}{p\\,c},\n",
    "  $$\n",
    "  where $c = 2.998\\times 10^{10}\\ \\text{cm/s}$ is the speed of light.  \n",
    "\n",
    "The distribution of proper decay times follows an **exponential law**, and the **mean value of this distribution** corresponds to the particle’s lifetime $\\tau_\\Omega$.  \n",
    "\n",
    "#### The Data\n",
    "You are provided with a CSV file:  \n",
    "\n",
    "**`omega_flight_data.csv`**  \n",
    "- Column 1: momentum $p$ of the $\\Omega^-$ particle, in **GeV/$c$**  \n",
    "- Column 2: flight distance $L$ of the $\\Omega^-$ particle, in **cm**\n",
    "\n",
    "The file contains 100 simulated $\\Omega^-$ decays.  \n",
    "\n",
    "#### Tasks\n",
    "1. Load the dataset into your notebook (e.g. using NumPy or Pandas).  \n",
    "2. For each entry, compute the **proper decay time** $t_{\\text{proper}}$.  \n",
    "3. Plot a histogram of the proper decay times.  \n",
    "4. Estimate the lifetime $\\tau_\\Omega$ as the **mean of the proper decay times**.  \n",
    "5. Overlay the exponential distribution with your fitted $\\tau_\\Omega$ on the histogram for comparison.  \n",
    "\n",
    "#### Goal\n",
    "Report your extracted value of $\\tau_\\Omega$ and compare it with the expected order of magnitude ($\\sim 10^{-10}\\ \\text{s}$).\n"
   ]
  },
  {
   "cell_type": "code",
   "execution_count": null,
   "metadata": {},
   "outputs": [
    {
     "name": "stdout",
     "output_type": "stream",
     "text": [
      "[ 8.1676643  12.70359746  7.80172481  5.07077436  8.26249959] [ 0.59582434  2.31828441  4.46754698 10.28121768 17.11114649]\n"
     ]
    }
   ],
   "source": [
    "import numpy as np\n",
    "\n",
    "# Load CSV (skip header row)\n",
    "data = np.loadtxt(\"omega_flight_data.csv\", delimiter=\",\", skiprows=1)\n",
    "\n",
    "# Columns: momentum (GeV/c), flight distance (cm)\n",
    "momenta = data[:,0]\n",
    "distances = data[:,1]\n",
    "\n",
    "print(momenta[:5], distances[:5])\n"
   ]
  },
  {
   "cell_type": "markdown",
   "metadata": {},
   "source": [
    "## Your answer here"
   ]
  },
  {
   "cell_type": "markdown",
   "metadata": {},
   "source": []
  },
  {
   "cell_type": "markdown",
   "metadata": {},
   "source": [
    "### AI Technology Disclosure Statement\n",
    "\n",
    "Use of AI technology is **permissible only** for:  \n",
    "- Formatting answers (e.g., converting to Markdown or LaTeX)  \n",
    "- Assisting with coding tasks (e.g., syntax help, debugging)  \n",
    "\n",
    "Students must explicitly state **whether AI technology was used** in completing this homework.  \n",
    "- If **yes**, describe **how** it was used.  \n",
    "- If **no**, state that no AI technology was used.  \n",
    "\n",
    "⚠️ If this disclosure is missing, the homework **will not be graded**.  \n",
    "If it is later completed, the submission will be treated as **late**.\n"
   ]
  },
  {
   "cell_type": "markdown",
   "metadata": {},
   "source": [
    "### Your answer"
   ]
  }
 ],
 "metadata": {
  "kernelspec": {
   "display_name": "Python 3 (ipykernel)",
   "language": "python",
   "name": "python3"
  },
  "language_info": {
   "codemirror_mode": {
    "name": "ipython",
    "version": 3
   },
   "file_extension": ".py",
   "mimetype": "text/x-python",
   "name": "python",
   "nbconvert_exporter": "python",
   "pygments_lexer": "ipython3",
   "version": "3.11.13"
  }
 },
 "nbformat": 4,
 "nbformat_minor": 4
}
